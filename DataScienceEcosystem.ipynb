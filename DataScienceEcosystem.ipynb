{
  "metadata": {
    "kernelspec": {
      "name": "python",
      "display_name": "Python (Pyodide)",
      "language": "python"
    },
    "language_info": {
      "codemirror_mode": {
        "name": "python",
        "version": 3
      },
      "file_extension": ".py",
      "mimetype": "text/x-python",
      "name": "python",
      "nbconvert_exporter": "python",
      "pygments_lexer": "ipython3",
      "version": "3.8"
    }
  },
  "nbformat_minor": 5,
  "nbformat": 4,
  "cells": [
    {
      "id": "ad38e5b3-9dd6-449f-93ca-f08a16ebfe46",
      "cell_type": "markdown",
      "source": "# Data Science Tools and Ecosystem\n\n",
      "metadata": {}
    },
    {
      "id": "09d21772-5755-4ac4-a0d7-d7c66920a9c8",
      "cell_type": "markdown",
      "source": "## Introduction\n\nIn this notebook, Data Science Tools and Ecosystem are summarized.\n\n",
      "metadata": {}
    },
    {
      "id": "59c438b2-82d1-47b6-88a6-327fcecc7636",
      "cell_type": "markdown",
      "source": "## Popular Data Science Languages\n\nSome of the popular languages that Data Scientists use are:\n\n1. Python\n2. R\n3. SQL\n4. Julia\n5. Scala\n",
      "metadata": {}
    },
    {
      "id": "e5b23de0-a4a5-4f68-b1c5-58db25ea6d73",
      "cell_type": "markdown",
      "source": "## Commonly Used Data Science Libraries\n\nSome of the commonly used libraries used by Data Scientists include:\n\n1. NumPy\n2. Pandas\n3. Matplotlib\n4. Scikit-learn\n5. TensorFlow\n6. PyTorch\n",
      "metadata": {}
    },
    {
      "id": "201f0192-6f0d-4a71-b532-53dc88047fa5",
      "cell_type": "markdown",
      "source": "## Data Science Tools\n\n| Data Science Tools       |\n|---------------------------|\n| Jupyter Notebook          |\n| RStudio                   |\n| VS Code                   |\n",
      "metadata": {}
    },
    {
      "id": "140e4421-2a87-4fe7-8782-48693fe9a974",
      "cell_type": "markdown",
      "source": "### Below are a few examples of evaluating arithmetic expressions in Python.\n",
      "metadata": {}
    },
    {
      "id": "0bd4e64f-4970-42b7-a221-b617d36d6f6d",
      "cell_type": "code",
      "source": "# This a simple arithmetic expression to multiply then add integers\n(3 * 4) + 5\n",
      "metadata": {
        "trusted": true
      },
      "outputs": [
        {
          "execution_count": 1,
          "output_type": "execute_result",
          "data": {
            "text/plain": "17"
          },
          "metadata": {}
        }
      ],
      "execution_count": 1
    },
    {
      "id": "b60724e0-f95a-4147-b62e-229fd1666238",
      "cell_type": "code",
      "source": "# This will convert 200 minutes to hours by dividing by 60\n200 / 60\n",
      "metadata": {
        "trusted": true
      },
      "outputs": [
        {
          "execution_count": 2,
          "output_type": "execute_result",
          "data": {
            "text/plain": "3.3333333333333335"
          },
          "metadata": {}
        }
      ],
      "execution_count": 2
    },
    {
      "id": "5d986c5d-7426-4e83-916f-1903b9e7a082",
      "cell_type": "markdown",
      "source": "## Objectives:\n\n- **List popular languages for Data Science.** (Python, R, SQL)\n- **Explain the concept of data cleaning.** (Handling missing values, outliers, inconsistencies)\n- **Demonstrate how to build a simple machine learning model.** (Linear regression)\n- **Visualize data using various plotting libraries.** (Matplotlib, Seaborn)\n",
      "metadata": {}
    },
    {
      "id": "9d2cd0e8-c7b4-4b0a-ae72-59be362f043f",
      "cell_type": "markdown",
      "source": "## Author\n\nWarley Ferreira de Sales \n",
      "metadata": {}
    },
    {
      "id": "0693d5b2-537c-4190-a5f5-46d6892f6173",
      "cell_type": "code",
      "source": "",
      "metadata": {
        "trusted": true
      },
      "outputs": [],
      "execution_count": null
    }
  ]
}